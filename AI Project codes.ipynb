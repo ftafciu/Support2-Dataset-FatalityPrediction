{
  "cells": [
    {
      "cell_type": "markdown",
      "source": [
        "# **\"SUPPORT 2\" DATASET**"
      ],
      "metadata": {
        "id": "bG47XewUpY1y"
      }
    },
    {
      "cell_type": "markdown",
      "source": [
        "#**NORMALIZATION**"
      ],
      "metadata": {
        "id": "E8-V577j3dqX"
      }
    },
    {
      "cell_type": "markdown",
      "source": [
        "# Missing values\n"
      ],
      "metadata": {
        "id": "nK6_ob4nTUGp"
      }
    },
    {
      "cell_type": "code",
      "execution_count": null,
      "metadata": {
        "id": "Yh-yhi9iFHTD"
      },
      "outputs": [],
      "source": [
        "import pandas as pd\n",
        "import re\n",
        "from sklearn.preprocessing import StandardScaler\n",
        "from scipy.stats import f_oneway\n",
        "from sklearn.ensemble import RandomForestClassifier\n",
        "from sklearn.model_selection import train_test_split\n",
        "from sklearn.preprocessing import OneHotEncoder\n",
        "from sklearn.compose import ColumnTransformer\n",
        "from sklearn.impute import SimpleImputer\n",
        "from sklearn.preprocessing import StandardScaler, LabelEncoder\n",
        "\n",
        "data = pd.read_csv(\"/content/DataSet_AI2.csv\")\n",
        "\n",
        "#replace missing values with values stated in the dataset website\n",
        "data['alb'].fillna(3.5, inplace=True)\n",
        "data['pafi'].fillna(333.3, inplace=True)\n",
        "data['bili'].fillna(1.01, inplace=True)\n",
        "data['crea'].fillna(1.01, inplace=True)\n",
        "data['bun'].fillna(6.51, inplace=True)\n",
        "data['wblc'].fillna(9, inplace=True)\n",
        "data['urine'].fillna(2502, inplace=True)\n",
        "\n",
        "#replace missing values of income column\n",
        "def extract_numeric_income(income_str):\n",
        "     if isinstance(income_str, (str, bytes)):\n",
        "        match = re.search(r'\\$?(\\d+)', income_str)\n",
        "        if match:\n",
        "            return int(match.group(1))\n",
        "     return None\n",
        "\n",
        "data['income'] = data['income'].apply(extract_numeric_income)\n",
        "\n",
        "average_income = data['income'].mean(skipna=True)\n",
        "\n",
        "data['income'].fillna(average_income, inplace=True)\n",
        "\n",
        "#replace missing values of scoma column\n",
        "data['scoma'].fillna(data['scoma'].mean(), inplace=True)\n",
        "\n",
        "#replace missing values of sps column\n",
        "data['sps'].fillna(data['sps'].mean(), inplace=True)\n",
        "\n",
        "#replace missing values of aps column\n",
        "data['aps'].fillna(data['aps'].mean(), inplace=True)\n",
        "\n",
        "#replace missing values of race column\n",
        "mode_value = data['race'].mode()[0]\n",
        "data['race'].fillna(mode_value, inplace=True)\n",
        "\n",
        "#replace missing values of surv2m column\n",
        "data['surv2m'].fillna(data['surv2m'].mean(), inplace=True)\n",
        "\n",
        "#replace missing values of surv6m column\n",
        "data['surv6m'].fillna(data['surv6m'].mean(), inplace=True)\n",
        "\n",
        "#replace missing values of prg2m column\n",
        "data['prg2m'].fillna(data['prg2m'].mean(), inplace=True)\n",
        "\n",
        "#replace missing values of prg6m column\n",
        "data['prg6m'].fillna(data['prg6m'].mean(), inplace=True)\n",
        "\n",
        "#replace missing values in dnr column\n",
        "mode_value = data['dnr'].mode()[0]\n",
        "data['dnr'].fillna(mode_value, inplace=True)\n",
        "\n",
        "#replace missing values of dnrday column\n",
        "data['dnrday'].fillna(data['dnrday'].mean(), inplace=True)\n",
        "\n",
        "#replace missing values of meanbp column\n",
        "data['meanbp'].fillna(data['meanbp'].mean(), inplace=True)\n",
        "\n",
        "#replace missing values of hrt column\n",
        "data['hrt'].fillna(data['hrt'].mean(), inplace=True)\n",
        "\n",
        "#replace missing values of meanbp column\n",
        "data['resp'].fillna(data['resp'].mean(), inplace=True)\n",
        "\n",
        "#replace missing values of temp column\n",
        "data['temp'].fillna(data['temp'].mean(), inplace=True)\n",
        "\n",
        "#replace missing values of sod column\n",
        "data['sod'].fillna(data['sod'].mean(), inplace=True)\n",
        "\n",
        "#replace missing values of ph column\n",
        "data['ph'].fillna(data['ph'].mean(), inplace=True)\n",
        "\n",
        "#replace missing values of glucose column\n",
        "data['glucose'].fillna(data['glucose'].mean(), inplace=True)\n",
        "\n",
        "#replace missing values of adlp column\n",
        "data['adlp'].fillna(data['adlp'].mean(), inplace=True)\n",
        "\n",
        "#replace missing values of adls column\n",
        "data['adls'].fillna(data['adls'].mean(), inplace=True)\n",
        "\n",
        "#replace missing values of totcst column\n",
        "data['totcst'].fillna(data['totcst'].mean(), inplace=True)\n",
        "\n",
        "#replace missing values of avtisst column\n",
        "data['avtisst'].fillna(data['avtisst'].mean(), inplace=True)\n",
        "\n",
        "#replace missing values of totmcst column\n",
        "data['totmcst'] = pd.to_numeric(data['totmcst'], errors='coerce')\n",
        "data['totmcst'].fillna(data['totmcst'].mean(), inplace=True)\n",
        "\n",
        "#replace missing values of charges column\n",
        "data['charges'].fillna(data['charges'].mean(), inplace=True)\n",
        "\n",
        "#replace missing values of edu column\n",
        "data['edu'].fillna(data['edu'].mean(), inplace=True)\n",
        "\n",
        "\n",
        "data.to_csv('/content/Dataset_No_Missing_Values.csv', index='False')"
      ]
    },
    {
      "cell_type": "markdown",
      "source": [
        "# Min-Max normalization"
      ],
      "metadata": {
        "id": "zidRHbt5UQaT"
      }
    },
    {
      "cell_type": "code",
      "source": [
        "df = data\n",
        "\n",
        "# Min-Max Normalization function\n",
        "def min_max_normalization(data):\n",
        "    if data.dtype in ['int64', 'float64']:\n",
        "        min_val = data.min()\n",
        "        max_val = data.max()\n",
        "        normalized_data = (data - min_val) / (max_val - min_val)\n",
        "        return normalized_data\n",
        "    else:\n",
        "        return data\n",
        "\n",
        "# Define columns for Min-Max normalization\n",
        "columns_min_max = ['age', 'num.co', 'sps', 'aps', 'surv2m', 'surv6m', 'hday', 'prg2m', 'prg6m', 'dnrday', 'meanbp',\n",
        "                   'wblc', 'hrt', 'resp', 'temp', 'pafi', 'bili', 'crea', 'sod', 'ph', 'glucose', 'adlp', 'adls',\n",
        "                   'adlsc', 'urine', 'bun', 'income', 'alb']\n",
        "\n",
        "# Apply Min-Max Normalization\n",
        "for column in columns_min_max:\n",
        "    df[column] = min_max_normalization(data[column])\n",
        "\n",
        "\n",
        "df.to_csv('/content/Processed_DataSet_Min-Max_AI.csv', index=False)\n",
        "print(\" \")\n",
        "print(\" \")\n",
        "print(\" \")\n"
      ],
      "metadata": {
        "id": "DyVsOqgOUVIm",
        "colab": {
          "base_uri": "https://localhost:8080/"
        },
        "outputId": "2380d96f-dfe2-4bc4-e80c-f1d8b9aa090b"
      },
      "execution_count": null,
      "outputs": [
        {
          "output_type": "stream",
          "name": "stdout",
          "text": [
            " \n",
            " \n",
            " \n"
          ]
        }
      ]
    },
    {
      "cell_type": "markdown",
      "source": [
        "# Z-Score normalization"
      ],
      "metadata": {
        "id": "RTI7cRRFUcDa"
      }
    },
    {
      "cell_type": "code",
      "source": [
        "print(\"Z-SCORE NORMALIZATION\")\n",
        "\n",
        "print(\" \")\n",
        "\n",
        "df = data\n",
        "\n",
        "\n",
        "def z_score_normalization(data):\n",
        "  if data.dtype in ['int64', 'float64']:\n",
        "    mean_val = data.mean()\n",
        "    std_val = data.std()\n",
        "    normalized_data = (data - mean_val) / std_val\n",
        "    return normalized_data\n",
        "  else:\n",
        "        return data\n",
        "\n",
        "# Specify the columns to be normalized\n",
        "columns_to_normalize = ['age', 'num.co', 'sps', 'aps', 'surv2m', 'surv6m', 'hday', 'prg2m', 'prg6m', 'dnrday', 'meanbp',\n",
        "                         'wblc', 'hrt', 'resp', 'temp', 'pafi', 'bili', 'crea', 'sod', 'ph', 'glucose', 'adlp', 'adls',\n",
        "                         'adlsc', 'urine', 'bun', 'income', 'alb', 'edu', 'charges', 'totcst', 'totmcst', 'avtisst']\n",
        "\n",
        "# Z-score normalization\n",
        "for column in columns_to_normalize:\n",
        "    df[column] = z_score_normalization(data[column])\n",
        "\n",
        "# Exclude non-numeric columns\n",
        "numeric_columns = data.select_dtypes(include=['float64', 'int64']).columns\n",
        "\n",
        "df.to_csv('/content/Processed_DataSet_Z-score_AI_.csv', index=False)\n",
        "\n"
      ],
      "metadata": {
        "id": "cUdCOd45UlQq"
      },
      "execution_count": null,
      "outputs": []
    },
    {
      "cell_type": "markdown",
      "source": [
        "# **TARGET 1 (SFDM2)**"
      ],
      "metadata": {
        "id": "f1LNUepMmGBQ"
      }
    },
    {
      "cell_type": "markdown",
      "source": [
        "# **SFDM2 MODEL: ENSEMBLE MODEL RANDOM FOREST PLUS FEED FORWARD NEURAL NETWORK**\n"
      ],
      "metadata": {
        "id": "XwkcwznpmS9Q"
      }
    },
    {
      "cell_type": "markdown",
      "source": [
        "###MIN-MAX NORMALIZED DATASET"
      ],
      "metadata": {
        "id": "ga2O4HDX5Yq1"
      }
    },
    {
      "cell_type": "code",
      "source": [
        "import matplotlib.pyplot as plt\n",
        "\n",
        "import numpy as np\n",
        "import pandas as pd\n",
        "from sklearn.model_selection import train_test_split\n",
        "from sklearn.preprocessing import StandardScaler\n",
        "from sklearn.decomposition import PCA\n",
        "from sklearn.ensemble import RandomForestClassifier\n",
        "from sklearn.metrics import accuracy_score\n",
        "from sklearn.preprocessing import OneHotEncoder\n",
        "from sklearn.compose import ColumnTransformer\n",
        "from tensorflow import keras\n",
        "from tensorflow.keras.models import Sequential\n",
        "from tensorflow.keras.layers import Dense"
      ],
      "metadata": {
        "id": "VVJepZzPd3YZ"
      },
      "execution_count": null,
      "outputs": []
    },
    {
      "cell_type": "code",
      "source": [
        "from sklearn.preprocessing import LabelEncoder\n",
        "\n",
        "data = pd.read_csv(\"/content/Processed_DataSet_Min-Max_AI.csv\")\n",
        "data.dropna(subset=['sfdm2'], inplace=True)\n",
        "data.drop(['edu', 'charges', 'totcst', 'totmcst', 'avtisst', 'death', 'hospdead','id'],axis=1, inplace=True)\n",
        "\n",
        "label_encoder = LabelEncoder()\n",
        "columns_to_encode = ['sex', 'dzgroup', 'dzclass', 'race', 'dnr', 'ca','sfdm2']\n",
        "data[columns_to_encode] = data[columns_to_encode].apply(lambda col: label_encoder.fit_transform(col))\n"
      ],
      "metadata": {
        "id": "RBk07_O9l0OY"
      },
      "execution_count": 56,
      "outputs": []
    },
    {
      "cell_type": "code",
      "source": [
        "target = data['sfdm2']\n",
        "x = data.iloc[:, :-1]\n",
        "\n",
        "# Split the data into training and testing sets\n",
        "X_train, X_test, y_train, y_test = train_test_split(x, target, test_size=0.2, random_state=42)"
      ],
      "metadata": {
        "id": "9ga2J34rgmcp"
      },
      "execution_count": null,
      "outputs": []
    },
    {
      "cell_type": "code",
      "source": [
        "# Train a Random Forest classifier on the reduced data\n",
        "clf = RandomForestClassifier(random_state=42)\n",
        "clf.fit(X_train, y_train)\n",
        "\n",
        "# Make predictions on the test set\n",
        "y_pred_rf = clf.predict(X_test)\n",
        "\n",
        "# Evaluate the accuracy of the Random Forest classifier\n",
        "accuracy_rf = accuracy_score(y_test, y_pred_rf)\n",
        "print(f'Accuracy of Random Forest Classifier: {accuracy_rf:.2f}')\n",
        "print(\"        \")"
      ],
      "metadata": {
        "id": "D1sKrJlyl6dn"
      },
      "execution_count": null,
      "outputs": []
    },
    {
      "cell_type": "code",
      "source": [
        "from keras.activations import sigmoid\n",
        "from keras.activations import tanh\n",
        "from keras.layers import LeakyReLU\n",
        "\n",
        "# Convert target labels to one-hot encoding for neural network\n",
        "encoder = OneHotEncoder(sparse=False)\n",
        "y_train_encoded = encoder.fit_transform(y_train.to_numpy().reshape(-1, 1))\n",
        "y_test_encoded = encoder.transform(y_test.to_numpy().reshape(-1, 1))\n",
        "\n",
        "\n",
        "# Build a simple neural network\n",
        "model = Sequential()\n",
        "model.add(Dense(16, input_dim=37, activation='sigmoid'))\n",
        "model.add(Dense(5, activation='softmax'))\n",
        "model.compile(optimizer='adam', loss='categorical_crossentropy', metrics=['accuracy'])\n",
        "print(\"Model Architecture:\", model.summary())\n",
        "print(\"        \")\n",
        "\n",
        "\n",
        "model.fit(X_train, y_train_encoded, epochs=50, batch_size=8, verbose=0)\n",
        "\n",
        "# Evaluate the neural network on the test set\n",
        "_, accuracy_nn = model.evaluate(X_test, y_test_encoded)\n",
        "print(f'Accuracy of Neural Network: {accuracy_nn:.2f}')\n",
        "print(\"        \")\n"
      ],
      "metadata": {
        "id": "9F8N4NOBl81A"
      },
      "execution_count": null,
      "outputs": []
    },
    {
      "cell_type": "code",
      "source": [
        "# Combine predictions from Random Forest and Neural Network (Ensemble)\n",
        "y_pred_ensemble = np.argmax(model.predict(X_test) + clf.predict_proba(X_test), axis=1)\n",
        "accuracy_ensemble = accuracy_score(y_test, y_pred_ensemble)\n",
        "print(f'Accuracy of Ensemble Model: {accuracy_ensemble:.2f}')"
      ],
      "metadata": {
        "id": "9rLke0uOl_Pb"
      },
      "execution_count": null,
      "outputs": []
    },
    {
      "cell_type": "code",
      "source": [
        "print(f'Accuracy of Random Forest Classifier: {accuracy_rf:.2f}')\n",
        "print(\"        \")\n",
        "print(f'Accuracy of Neural Network: {accuracy_nn:.2f}')\n",
        "print(\"        \")\n",
        "print(f'Accuracy of Ensemble Model: {accuracy_ensemble:.2f}')"
      ],
      "metadata": {
        "id": "woQEKtNFmBmz"
      },
      "execution_count": null,
      "outputs": []
    },
    {
      "cell_type": "markdown",
      "source": [
        "###Z-Score NORMALIZED DATASET"
      ],
      "metadata": {
        "id": "uX2zWF5nqEas"
      }
    },
    {
      "cell_type": "code",
      "source": [
        "from sklearn.preprocessing import LabelEncoder\n",
        "\n",
        "data = pd.read_csv(\"/content/Processed_DataSet_Z-score_AI_.csv\")\n",
        "data.dropna(subset=['sfdm2'], inplace=True)\n",
        "data.drop(['edu', 'charges', 'totcst', 'totmcst', 'avtisst', 'death', 'hospdead','id'],axis=1, inplace=True)\n",
        "\n",
        "label_encoder = LabelEncoder()\n",
        "columns_to_encode = ['sex', 'dzgroup', 'dzclass', 'race', 'dnr', 'ca','sfdm2']\n",
        "data[columns_to_encode] = data[columns_to_encode].apply(lambda col: label_encoder.fit_transform(col))"
      ],
      "metadata": {
        "id": "gecFPfEpqO_K"
      },
      "execution_count": 59,
      "outputs": []
    },
    {
      "cell_type": "code",
      "source": [
        "target = data['sfdm2']\n",
        "x = data.iloc[:, :-1]\n",
        "\n",
        "# Split the data into training and testing sets\n",
        "X_train, X_test, y_train, y_test = train_test_split(x, target, test_size=0.4, random_state=42)"
      ],
      "metadata": {
        "id": "_IvuUuX1qQGk"
      },
      "execution_count": null,
      "outputs": []
    },
    {
      "cell_type": "code",
      "source": [
        "# Train a Random Forest classifier on the reduced data\n",
        "clf = RandomForestClassifier(random_state=42)\n",
        "clf.fit(X_train, y_train)\n",
        "\n",
        "# Make predictions on the test set\n",
        "y_pred_rf = clf.predict(X_test)\n",
        "\n",
        "# Evaluate the accuracy of the Random Forest classifier\n",
        "accuracy_rf = accuracy_score(y_test, y_pred_rf)\n",
        "print(f'Accuracy of Random Forest Classifier: {accuracy_rf:.2f}')\n",
        "print(\"        \")"
      ],
      "metadata": {
        "id": "A-ctcisyqTY5"
      },
      "execution_count": null,
      "outputs": []
    },
    {
      "cell_type": "code",
      "source": [
        "# Convert target labels to one-hot encoding for neural network\n",
        "encoder = OneHotEncoder(sparse=False)\n",
        "y_train_encoded = encoder.fit_transform(y_train.to_numpy().reshape(-1, 1))\n",
        "y_test_encoded = encoder.transform(y_test.to_numpy().reshape(-1, 1))\n",
        "\n",
        "\n",
        "# Build a simple neural network\n",
        "model = Sequential()\n",
        "model.add(Dense(16, input_dim=37, activation='relu'))\n",
        "model.add(Dense(5, activation='softmax'))\n",
        "model.compile(optimizer='adam', loss='categorical_crossentropy', metrics=['accuracy'])\n",
        "print(\"Model Architecture:\", model.summary())\n",
        "print(\"        \")\n",
        "\n",
        "\n",
        "# Train the neural network on the reduced data obtained through PCA\n",
        "model.fit(X_train, y_train_encoded, epochs=50, batch_size=8, verbose=0)\n",
        "\n",
        "# Evaluate the neural network on the test set\n",
        "_, accuracy_nn = model.evaluate(X_test, y_test_encoded)\n",
        "print(f'Accuracy of Neural Network: {accuracy_nn:.2f}')\n",
        "print(\"        \")\n"
      ],
      "metadata": {
        "id": "fTevqTRgqdmK"
      },
      "execution_count": null,
      "outputs": []
    },
    {
      "cell_type": "code",
      "source": [
        "# Combine predictions from Random Forest and Neural Network (Ensemble)\n",
        "y_pred_ensemble = np.argmax(model.predict(X_test) + clf.predict_proba(X_test), axis=1)\n",
        "accuracy_ensemble = accuracy_score(y_test, y_pred_ensemble)\n",
        "print(f'Accuracy of Ensemble Model: {accuracy_ensemble:.2f}')"
      ],
      "metadata": {
        "colab": {
          "base_uri": "https://localhost:8080/"
        },
        "id": "a8SFvgnUqiij",
        "outputId": "2dd8b381-061b-4f52-b1e2-ea8fceecbc23"
      },
      "execution_count": null,
      "outputs": [
        {
          "output_type": "stream",
          "name": "stdout",
          "text": [
            "97/97 [==============================] - 0s 1ms/step\n",
            "Accuracy of Ensemble Model: 0.72\n"
          ]
        }
      ]
    },
    {
      "cell_type": "code",
      "source": [
        "print(f'Accuracy of Random Forest Classifier: {accuracy_rf:.2f}')\n",
        "print(\"        \")\n",
        "print(f'Accuracy of Neural Network: {accuracy_nn:.2f}')\n",
        "print(\"        \")\n",
        "print(f'Accuracy of Ensemble Model: {accuracy_ensemble:.2f}')"
      ],
      "metadata": {
        "id": "ADydCJ55qreL"
      },
      "execution_count": null,
      "outputs": []
    },
    {
      "cell_type": "markdown",
      "source": [
        "# **SFDM2 MODEL: HYBRID WITH LOGICAL REGRESSION**"
      ],
      "metadata": {
        "id": "AbTTeJcRrbTu"
      }
    },
    {
      "cell_type": "markdown",
      "source": [
        "###MIN-MAX NORMALIZED DATASET"
      ],
      "metadata": {
        "id": "AmdnOAOiss8D"
      }
    },
    {
      "cell_type": "code",
      "source": [
        "import pandas as pd\n",
        "from sklearn.preprocessing import LabelEncoder\n",
        "import re\n",
        "from sklearn.preprocessing import StandardScaler\n",
        "from scipy.stats import f_oneway\n",
        "from sklearn.ensemble import RandomForestClassifier\n",
        "from sklearn.model_selection import train_test_split\n",
        "from sklearn.preprocessing import OneHotEncoder\n",
        "from sklearn.compose import ColumnTransformer\n",
        "from sklearn.impute import SimpleImputer\n",
        "from sklearn.preprocessing import StandardScaler, LabelEncoder\n",
        "\n",
        "data = pd.read_csv(\"/content/Processed_DataSet_Min-Max_AI.csv\")\n",
        "data.dropna(subset=['sfdm2'], inplace=True)\n",
        "data.drop(['edu', 'charges', 'totcst', 'totmcst', 'avtisst', 'death', 'hospdead','id'],axis=1, inplace=True)\n",
        "\n",
        "label_encoder = LabelEncoder()\n",
        "columns_to_encode = ['sex', 'dzgroup', 'dzclass', 'race', 'dnr', 'ca','sfdm2']\n",
        "data[columns_to_encode] = data[columns_to_encode].apply(lambda col: label_encoder.fit_transform(col))"
      ],
      "metadata": {
        "id": "Tub9deNmsmpX"
      },
      "execution_count": 61,
      "outputs": []
    },
    {
      "cell_type": "code",
      "source": [
        "target = data['sfdm2']\n",
        "x = data.iloc[:, :-1]\n",
        "\n",
        "# Split the data into training and testing sets\n",
        "X_train, X_test, y_train, y_test = train_test_split(x, target, test_size=0.2, random_state=42)"
      ],
      "metadata": {
        "id": "wqGXNsMos4Ba"
      },
      "execution_count": null,
      "outputs": []
    },
    {
      "cell_type": "code",
      "source": [
        "from sklearn.metrics import classification_report, confusion_matrix\n",
        "from sklearn.linear_model import LogisticRegression\n",
        "\n",
        "classifier = LogisticRegression(max_iter=1000)\n",
        "classifier.fit(X_train, y_train)\n",
        "\n",
        "# 6. Predicting New Instances based on cleated Classification Model\n",
        "y_predicted = classifier.predict(X_test)\n",
        "\n",
        "# 7. Evaluation Classification\n",
        "print(confusion_matrix(y_predicted, y_test))\n",
        "print(classification_report(y_predicted, y_test))"
      ],
      "metadata": {
        "id": "Ox1lyH7Kt3K8"
      },
      "execution_count": null,
      "outputs": []
    },
    {
      "cell_type": "code",
      "source": [
        "# Convert target labels to one-hot encoding for neural network\n",
        "encoder = OneHotEncoder(sparse=False)\n",
        "y_train_encoded = encoder.fit_transform(y_train.to_numpy().reshape(-1, 1))\n",
        "y_test_encoded = encoder.transform(y_test.to_numpy().reshape(-1, 1))\n",
        "\n",
        "\n",
        "# Build a simple neural network\n",
        "model = Sequential()\n",
        "model.add(Dense(16, input_dim=37, activation='relu'))\n",
        "model.add(Dense(5, activation='softmax'))\n",
        "model.compile(optimizer='adam', loss='categorical_crossentropy', metrics=['accuracy'])\n",
        "print(\"Model Architecture:\", model.summary())\n",
        "print(\"        \")\n",
        "\n",
        "\n",
        "model.fit(X_train, y_train_encoded, epochs=50, batch_size=8, verbose=0)\n",
        "\n",
        "# Evaluate the neural network on the test set\n",
        "_, accuracy_nn = model.evaluate(X_test, y_test_encoded)\n",
        "print(f'Accuracy of Neural Network: {accuracy_nn:.2f}')\n",
        "print(\"        \")"
      ],
      "metadata": {
        "id": "o0w8s7fqsgfM"
      },
      "execution_count": null,
      "outputs": []
    },
    {
      "cell_type": "code",
      "source": [
        "y_pred_ensemble = np.argmax(model.predict(X_test) + classifier.predict_proba(X_test), axis=1)\n",
        "accuracy_ensemble = accuracy_score(y_test, y_pred_ensemble)\n",
        "print(f'Accuracy of Ensemble Model: {accuracy_ensemble:.2f}')"
      ],
      "metadata": {
        "id": "TJPbiPcAsaL1"
      },
      "execution_count": null,
      "outputs": []
    },
    {
      "cell_type": "code",
      "source": [
        "print(f'Accuracy of Logical Regression Classifier: {accuracy_rf:.2f}')\n",
        "print(\"        \")\n",
        "print(f'Accuracy of Neural Network: {accuracy_nn:.2f}')\n",
        "print(\"        \")\n",
        "print(f'Accuracy of Ensemble Model: {accuracy_ensemble:.2f}')\n",
        "class_report_normalized = classification_report(y_test, y_pred_ensemble, zero_division=1)\n",
        "print(\"Classification Report (Normalized Dataset):\")\n",
        "print(class_report_normalized)\n",
        "\n",
        "conf_matrix_normalized = confusion_matrix(y_test, y_pred_ensemble)\n",
        "print(\"Confusion Matrix (Normalized Dataset):\")\n",
        "print(conf_matrix_normalized)"
      ],
      "metadata": {
        "id": "wvr1mXYesQ7W"
      },
      "execution_count": null,
      "outputs": []
    },
    {
      "cell_type": "markdown",
      "source": [
        "###Z-Score NORMALIZED DATASET"
      ],
      "metadata": {
        "id": "qTso0_FMwBku"
      }
    },
    {
      "cell_type": "code",
      "source": [
        "from sklearn.preprocessing import LabelEncoder\n",
        "\n",
        "data = pd.read_csv(\"/content/Processed_DataSet_Z-score_AI_.csv\")\n",
        "data.dropna(subset=['sfdm2'], inplace=True)\n",
        "data.drop(['edu', 'charges', 'totcst', 'totmcst', 'avtisst', 'death', 'hospdead','id'],axis=1, inplace=True)\n",
        "\n",
        "label_encoder = LabelEncoder()\n",
        "columns_to_encode = ['sex', 'dzgroup', 'dzclass', 'race', 'dnr', 'ca','sfdm2']\n",
        "data[columns_to_encode] = data[columns_to_encode].apply(lambda col: label_encoder.fit_transform(col))\n",
        "\n",
        "target = data['sfdm2']\n",
        "x = data.iloc[:, :-1]\n",
        "\n",
        "# Split the data into training and testing sets\n",
        "X_train, X_test, y_train, y_test = train_test_split(x, target, test_size=0.2, random_state=42)"
      ],
      "metadata": {
        "id": "gfye1QquwA4c"
      },
      "execution_count": null,
      "outputs": []
    },
    {
      "cell_type": "code",
      "source": [
        "from sklearn.metrics import classification_report, confusion_matrix\n",
        "from sklearn.linear_model import LogisticRegression\n",
        "\n",
        "classifier = LogisticRegression(max_iter=10000)\n",
        "classifier.fit(X_train, y_train) #Classification Model\n",
        "\n",
        "# 6. Predicting New Instances based on cleated Classification Model\n",
        "y_predicted = classifier.predict(X_test)\n",
        "\n",
        "# 7. Evaluation Classification\n",
        "print(confusion_matrix(y_predicted, y_test))\n",
        "print(classification_report(y_predicted, y_test))"
      ],
      "metadata": {
        "id": "7l9Biu2gwVOE"
      },
      "execution_count": null,
      "outputs": []
    },
    {
      "cell_type": "code",
      "source": [
        "# Convert target labels to one-hot encoding for neural network\n",
        "encoder = OneHotEncoder(sparse=False)\n",
        "y_train_encoded = encoder.fit_transform(y_train.to_numpy().reshape(-1, 1))\n",
        "y_test_encoded = encoder.transform(y_test.to_numpy().reshape(-1, 1))\n",
        "\n",
        "\n",
        "# Build a simple neural network\n",
        "model = Sequential()\n",
        "model.add(Dense(16, input_dim=37, activation='relu'))\n",
        "model.add(Dense(5, activation='softmax'))\n",
        "model.compile(optimizer='adam', loss='categorical_crossentropy', metrics=['accuracy'])\n",
        "print(\"Model Architecture:\", model.summary())\n",
        "print(\"        \")\n",
        "\n",
        "\n",
        "model.fit(X_train, y_train_encoded, epochs=50, batch_size=8, verbose=0)\n",
        "\n",
        "# Evaluate the neural network on the test set\n",
        "_, accuracy_nn = model.evaluate(X_test, y_test_encoded)\n",
        "print(f'Accuracy of Neural Network: {accuracy_nn:.2f}')\n",
        "print(\"        \")"
      ],
      "metadata": {
        "id": "_3M2cul-wb66"
      },
      "execution_count": null,
      "outputs": []
    },
    {
      "cell_type": "code",
      "source": [
        "y_pred_ensemble = np.argmax(model.predict(X_test) + clf.predict_proba(X_test), axis=1)\n",
        "accuracy_ensemble = accuracy_score(y_test, y_pred_ensemble)\n",
        "print(f'Accuracy of Ensemble Model: {accuracy_ensemble:.2f}')"
      ],
      "metadata": {
        "id": "W8bZeDD3wz_a"
      },
      "execution_count": null,
      "outputs": []
    },
    {
      "cell_type": "code",
      "source": [
        "print(f'Accuracy of Logical Regression Classifier: {accuracy_rf:.2f}')\n",
        "print(\"        \")\n",
        "print(f'Accuracy of Neural Network: {accuracy_nn:.2f}')\n",
        "print(\"        \")\n",
        "print(f'Accuracy of Ensemble Model: {accuracy_ensemble:.2f}')\n",
        "\n",
        "class_report_normalized = classification_report(y_test, y_pred_ensemble, zero_division=1)\n",
        "print(\"Classification Report (Normalized Dataset):\")\n",
        "print(class_report_normalized)\n",
        "\n",
        "conf_matrix_normalized = confusion_matrix(y_test, y_pred_ensemble)\n",
        "print(\"Confusion Matrix (Normalized Dataset):\")\n",
        "print(conf_matrix_normalized)"
      ],
      "metadata": {
        "id": "ntZCUqvfw5E6"
      },
      "execution_count": null,
      "outputs": []
    },
    {
      "cell_type": "markdown",
      "source": [
        "# **SFDM2 MODEL: MLP**"
      ],
      "metadata": {
        "id": "IjZuzYa4Gnl3"
      }
    },
    {
      "cell_type": "markdown",
      "source": [
        "###MIN-MAX NORMALIZED DATASET"
      ],
      "metadata": {
        "id": "00WXmTrFIqpk"
      }
    },
    {
      "cell_type": "code",
      "source": [
        "import pandas as pd\n",
        "from sklearn.neural_network import MLPClassifier\n",
        "from sklearn.model_selection import train_test_split\n",
        "from sklearn.preprocessing import LabelEncoder\n",
        "from sklearn.metrics import accuracy_score, classification_report, confusion_matrix\n",
        "from sklearn.impute import SimpleImputer\n",
        "\n",
        "# Load normalized dataset\n",
        "data = pd.read_csv(\"/content/Processed_DataSet_Min-Max_AI.csv\")\n",
        "data.dropna(subset=['sfdm2'], inplace=True)\n",
        "data.drop(['edu', 'charges', 'totcst', 'totmcst', 'avtisst', 'death', 'hospdead', 'income'], axis=1, inplace=True)\n",
        "label_encoder = LabelEncoder()\n",
        "columns_to_encode = ['sex', 'dzgroup', 'dzclass', 'race', 'dnr', 'ca', 'sfdm2']\n",
        "data[columns_to_encode] = data[columns_to_encode].apply(lambda col: label_encoder.fit_transform(col))\n",
        "\n",
        "target = data['sfdm2']\n",
        "x = data.iloc[:, :-1]\n",
        "\n",
        "# Split the data into training and testing sets\n",
        "X_train, X_test, y_train, y_test = train_test_split(x, target, test_size=0.2, random_state=42)\n",
        "\n",
        "\n",
        "mlp_classifier_normalized = MLPClassifier(\n",
        "    activation='tanh',\n",
        "    solver='sgd',\n",
        "    learning_rate='invscaling',\n",
        "    random_state=42,\n",
        "    max_iter=500\n",
        ")\n",
        "\n",
        "# Fit the model\n",
        "mlp_classifier_normalized.fit(X_train, y_train)\n",
        "\n",
        "\n",
        "y_pred_normalized = mlp_classifier_normalized.predict(X_test)\n",
        "\n",
        "# Evaluate the model\n",
        "accuracy_normalized = accuracy_score(y_test, y_pred_normalized)\n",
        "print(\"Accuracy (Normalized Dataset):\", accuracy_normalized)\n",
        "\n",
        "\n",
        "class_report_normalized = classification_report(y_test, y_pred_normalized, zero_division=1)\n",
        "print(\"Classification Report (Normalized Dataset):\")\n",
        "print(class_report_normalized)\n",
        "\n",
        "\n",
        "conf_matrix_normalized = confusion_matrix(y_test, y_pred_normalized)\n",
        "print(\"Confusion Matrix (Normalized Dataset):\")\n",
        "print(conf_matrix_normalized)\n"
      ],
      "metadata": {
        "id": "cmsrynsmIv7D"
      },
      "execution_count": null,
      "outputs": []
    },
    {
      "cell_type": "markdown",
      "source": [
        "###Z-Score NORMALIZED DATASET"
      ],
      "metadata": {
        "id": "Zi_1ou7RI0_E"
      }
    },
    {
      "cell_type": "code",
      "source": [
        "import pandas as pd\n",
        "from sklearn.neural_network import MLPClassifier\n",
        "from sklearn.model_selection import train_test_split\n",
        "from sklearn.preprocessing import LabelEncoder\n",
        "from sklearn.metrics import accuracy_score, classification_report, confusion_matrix\n",
        "from sklearn.impute import SimpleImputer\n",
        "\n",
        "# Load normalized dataset\n",
        "data = pd.read_csv(\"/content/Processed_DataSet_Z-score_AI_.csv\")\n",
        "data.dropna(subset=['sfdm2'], inplace=True)\n",
        "data.drop(['edu', 'charges', 'totcst', 'totmcst', 'avtisst', 'death', 'hospdead', 'income'], axis=1, inplace=True)\n",
        "label_encoder = LabelEncoder()\n",
        "columns_to_encode = ['sex', 'dzgroup', 'dzclass', 'race', 'dnr', 'ca', 'sfdm2']\n",
        "data[columns_to_encode] = data[columns_to_encode].apply(lambda col: label_encoder.fit_transform(col))\n",
        "\n",
        "target = data['sfdm2']\n",
        "x = data.iloc[:, :-1]\n",
        "\n",
        "# Split the data into training and testing sets\n",
        "X_train, X_test, y_train, y_test = train_test_split(x, target, test_size=0.3, random_state=37)\n",
        "\n",
        "\n",
        "mlp_classifier_normalized = MLPClassifier(\n",
        "    activation='tanh',\n",
        "    solver='sgd',\n",
        "    learning_rate='invscaling',\n",
        "    random_state=42,\n",
        "    max_iter=500\n",
        ")\n",
        "\n",
        "\n",
        "mlp_classifier_normalized.fit(X_train, y_train)\n",
        "\n",
        "# Makeing predictions on the test set\n",
        "y_pred_normalized = mlp_classifier_normalized.predict(X_test)\n",
        "\n",
        "# Evaluate the model\n",
        "accuracy_normalized = accuracy_score(y_test, y_pred_normalized)\n",
        "print(\"Accuracy (Normalized Dataset):\", accuracy_normalized)\n",
        "\n",
        "\n",
        "class_report_normalized = classification_report(y_test, y_pred_normalized, zero_division=1)\n",
        "print(\"Classification Report (Normalized Dataset):\")\n",
        "print(class_report_normalized)\n",
        "\n",
        "\n",
        "conf_matrix_normalized = confusion_matrix(y_test, y_pred_normalized)\n",
        "print(\"Confusion Matrix (Normalized Dataset):\")\n",
        "print(conf_matrix_normalized)\n"
      ],
      "metadata": {
        "id": "ftu8HQWfI4LF"
      },
      "execution_count": null,
      "outputs": []
    },
    {
      "cell_type": "markdown",
      "source": [
        "# **TARGET 2 (DEATH)**"
      ],
      "metadata": {
        "id": "w11GJq78yrFU"
      }
    },
    {
      "cell_type": "markdown",
      "source": [
        "# **Death MODEL: RANDOM FOREST MODEL**\n"
      ],
      "metadata": {
        "id": "OofqTxYbVRoh"
      }
    },
    {
      "cell_type": "markdown",
      "source": [
        "###MIN-MAX NORMALIZED DATASET"
      ],
      "metadata": {
        "id": "unU-JX86y37p"
      }
    },
    {
      "cell_type": "code",
      "source": [
        "import pandas as pd\n",
        "from sklearn.ensemble import RandomForestClassifier\n",
        "from sklearn.model_selection import train_test_split\n",
        "from sklearn.preprocessing import LabelEncoder\n",
        "from sklearn.metrics import accuracy_score, classification_report, confusion_matrix\n",
        "\n",
        "# Load the dataset\n",
        "data = pd.read_csv(\"/content/Processed_DataSet_Min-Max_AI.csv\")\n",
        "\n",
        "# Sampling the dataset\n",
        "instances_per_target = 10000\n",
        "sampled_data = data.groupby('death', group_keys=False).apply(lambda x: x.sample(min(len(x), instances_per_target)))\n",
        "\n",
        "\n",
        "label_encoder = LabelEncoder()\n",
        "columns_to_encode = ['sex', 'dzgroup', 'dzclass', 'race', 'dnr', 'ca', 'sfdm2']\n",
        "sampled_data[columns_to_encode] = sampled_data[columns_to_encode].apply(lambda col: label_encoder.fit_transform(col))\n",
        "\n",
        "# Columns to drop\n",
        "columns_to_drop = ['death', \"hospdead\", 'edu', 'charges', 'totcst', 'totmcst', 'avtisst', 'id', 'sfdm2']\n",
        "\n",
        "\n",
        "features = sampled_data.drop(columns=columns_to_drop)\n",
        "target = sampled_data['death']\n",
        "\n",
        "# Splitting the data into train and test sets\n",
        "X_train, X_test, y_train, y_test = train_test_split(features, target, test_size=0.3, random_state=60)\n",
        "\n",
        "clf = RandomForestClassifier(n_estimators=10000, random_state=60)\n",
        "\n",
        "# Fit the classifier to the training data\n",
        "clf.fit(X_train, y_train)\n",
        "y_pred = clf.predict(X_test)\n",
        "\n",
        "\n",
        "accuracy = accuracy_score(y_test, y_pred)\n",
        "print(f\"Accuracy on the test set: {accuracy:.2f}\")\n",
        "\n",
        "\n",
        "class_report = classification_report(y_test, y_pred)\n",
        "print(\"Classification Report:\")\n",
        "print(class_report)\n",
        "\n",
        "conf_matrix = confusion_matrix(y_test, y_pred)\n",
        "print(\"Confusion Matrix:\")\n",
        "print(conf_matrix)\n"
      ],
      "metadata": {
        "id": "vtVVux8MThnd"
      },
      "execution_count": null,
      "outputs": []
    },
    {
      "cell_type": "markdown",
      "source": [
        "###Z-Score NORMALIZED DATASET"
      ],
      "metadata": {
        "id": "tZSkoA_vy9KY"
      }
    },
    {
      "cell_type": "code",
      "source": [
        "import pandas as pd\n",
        "from sklearn.ensemble import RandomForestClassifier\n",
        "from sklearn.model_selection import train_test_split\n",
        "from sklearn.preprocessing import LabelEncoder\n",
        "from sklearn.metrics import accuracy_score, classification_report, confusion_matrix\n",
        "\n",
        "# Load the dataset\n",
        "data = pd.read_csv('/content/Processed_DataSet_Z-score_AI_.csv')\n",
        "\n",
        "# Sampling the dataset\n",
        "instances_per_target = 10000\n",
        "sampled_data = data.groupby('death', group_keys=False).apply(lambda x: x.sample(min(len(x), instances_per_target)))\n",
        "\n",
        "# Label encoding for categorical columns\n",
        "label_encoder = LabelEncoder()\n",
        "columns_to_encode = ['sex', 'dzgroup', 'dzclass', 'race', 'dnr', 'ca', 'sfdm2']\n",
        "sampled_data[columns_to_encode] = sampled_data[columns_to_encode].apply(lambda col: label_encoder.fit_transform(col))\n",
        "\n",
        "# Columns to drop\n",
        "columns_to_drop = ['death', \"hospdead\", 'edu', 'charges', 'totcst', 'totmcst', 'avtisst', 'id', 'sfdm2']\n",
        "\n",
        "\n",
        "features = sampled_data.drop(columns=columns_to_drop)\n",
        "target = sampled_data['death']\n",
        "\n",
        "# Splitting the data into train and test sets\n",
        "X_train, X_test, y_train, y_test = train_test_split(features, target, test_size=0.3, random_state=60)\n",
        "\n",
        "# Initialize the Random Forest Classifier\n",
        "clf = RandomForestClassifier(n_estimators=10000, random_state=60)\n",
        "\n",
        "# Fit the classifier to the training data\n",
        "clf.fit(X_train, y_train)\n",
        "y_pred = clf.predict(X_test)\n",
        "\n",
        "# Evaluate the model\n",
        "accuracy = accuracy_score(y_test, y_pred)\n",
        "print(f\"Accuracy on the test set: {accuracy:.2f}\")\n",
        "\n",
        "\n",
        "class_report = classification_report(y_test, y_pred)\n",
        "print(\"Classification Report:\")\n",
        "print(class_report)\n",
        "\n",
        "conf_matrix = confusion_matrix(y_test, y_pred)\n",
        "print(\"Confusion Matrix:\")\n",
        "print(conf_matrix)\n"
      ],
      "metadata": {
        "id": "4ve3kRgmzAWf"
      },
      "execution_count": null,
      "outputs": []
    },
    {
      "cell_type": "markdown",
      "source": [
        "#**Death MODEL: DECISION TREE**\n"
      ],
      "metadata": {
        "id": "oJrZH293xaH3"
      }
    },
    {
      "cell_type": "markdown",
      "source": [
        "###MIN-MAX NORMALIZED DATASET\n"
      ],
      "metadata": {
        "id": "7Xp1RY4JxjdJ"
      }
    },
    {
      "cell_type": "code",
      "source": [
        "import pandas as pd\n",
        "from sklearn.tree import DecisionTreeClassifier\n",
        "from sklearn.model_selection import train_test_split\n",
        "from sklearn.preprocessing import LabelEncoder\n",
        "from sklearn.metrics import accuracy_score, classification_report, confusion_matrix\n",
        "from sklearn.impute import SimpleImputer\n",
        "\n",
        "# Load dataset\n",
        "data = pd.read_csv('Processed_DataSet_Min-Max_AI.csv')\n",
        "\n",
        "# Columns to drop\n",
        "columns_to_drop = ['sex', 'dzgroup', 'dzclass', 'race', 'dnr', 'ca', 'sfdm2']\n",
        "\n",
        "# Drop specified columns\n",
        "data_filtered = data.drop(columns=columns_to_drop)\n",
        "\n",
        "X = data_filtered.drop(['death'], axis=1)\n",
        "y = data_filtered['death']\n",
        "\n",
        "label_encoder = LabelEncoder()\n",
        "for col in X.select_dtypes(include=['object']).columns:\n",
        "    X[col] = label_encoder.fit_transform(X[col])\n",
        "\n",
        "# Split the data into training and testing sets\n",
        "X_train, X_test, y_train, y_test = train_test_split(X, y, test_size=0.3, random_state=42)\n",
        "\n",
        "imputer = SimpleImputer(strategy='mean')\n",
        "\n",
        "\n",
        "X_train_imputed = pd.DataFrame(imputer.fit_transform(X_train), columns=X_train.columns)\n",
        "\n",
        "\n",
        "X_test_imputed = pd.DataFrame(imputer.transform(X_test), columns=X_test.columns)\n",
        "\n",
        "\n",
        "dt_classifier = DecisionTreeClassifier(random_state=42)\n",
        "\n",
        "# Fit the model\n",
        "dt_classifier.fit(X_train_imputed, y_train)\n",
        "\n",
        "y_pred = dt_classifier.predict(X_test_imputed)\n",
        "\n",
        "\n",
        "accuracy = accuracy_score(y_test, y_pred)\n",
        "print(\"Accuracy:\", accuracy)\n",
        "\n",
        "\n",
        "class_report = classification_report(y_test, y_pred)\n",
        "print(\"Classification Report:\")\n",
        "print(class_report)\n",
        "\n",
        "\n",
        "conf_matrix = confusion_matrix(y_test, y_pred)\n",
        "print(\"Confusion Matrix:\")\n",
        "print(conf_matrix)\n"
      ],
      "metadata": {
        "id": "o8wJiw8Cxa6r"
      },
      "execution_count": null,
      "outputs": []
    },
    {
      "cell_type": "markdown",
      "source": [
        "###Z-Score NORMALIZED DATASET"
      ],
      "metadata": {
        "id": "HICYSQbzx5AC"
      }
    },
    {
      "cell_type": "code",
      "source": [
        "import pandas as pd\n",
        "from sklearn.tree import DecisionTreeClassifier\n",
        "from sklearn.model_selection import train_test_split\n",
        "from sklearn.preprocessing import LabelEncoder\n",
        "from sklearn.metrics import accuracy_score, classification_report, confusion_matrix\n",
        "from sklearn.impute import SimpleImputer\n",
        "\n",
        "# Load dataset\n",
        "data = pd.read_csv('/content/Processed_DataSet_Z-score_AI_.csv')\n",
        "\n",
        "# Columns to drop\n",
        "columns_to_drop = ['sex', 'dzgroup', 'dzclass', 'race', 'dnr', 'ca', 'sfdm2']\n",
        "\n",
        "# Drop specified columns\n",
        "data_filtered = data.drop(columns=columns_to_drop)\n",
        "\n",
        "\n",
        "X = data_filtered.drop(['death'], axis=1)\n",
        "y = data_filtered['death']\n",
        "\n",
        "# Converting categorical variables to numerical using Label Encoding\n",
        "label_encoder = LabelEncoder()\n",
        "for col in X.select_dtypes(include=['object']).columns:\n",
        "    X[col] = label_encoder.fit_transform(X[col])\n",
        "\n",
        "# Split the data into training and testing sets\n",
        "X_train, X_test, y_train, y_test = train_test_split(X, y, test_size=0.3, random_state=42)\n",
        "\n",
        "\n",
        "imputer = SimpleImputer(strategy='mean')\n",
        "\n",
        "\n",
        "X_train_imputed = pd.DataFrame(imputer.fit_transform(X_train), columns=X_train.columns)\n",
        "\n",
        "\n",
        "X_test_imputed = pd.DataFrame(imputer.transform(X_test), columns=X_test.columns)\n",
        "\n",
        "\n",
        "dt_classifier = DecisionTreeClassifier(random_state=42)\n",
        "\n",
        "# Fit the model\n",
        "dt_classifier.fit(X_train_imputed, y_train)\n",
        "\n",
        "\n",
        "y_pred = dt_classifier.predict(X_test_imputed)\n",
        "\n",
        "\n",
        "accuracy = accuracy_score(y_test, y_pred)\n",
        "print(\"Accuracy:\", accuracy)\n",
        "\n",
        "\n",
        "class_report = classification_report(y_test, y_pred)\n",
        "print(\"Classification Report:\")\n",
        "print(class_report)\n",
        "\n",
        "\n",
        "conf_matrix = confusion_matrix(y_test, y_pred)\n",
        "print(\"Confusion Matrix:\")\n",
        "print(conf_matrix)\n"
      ],
      "metadata": {
        "id": "-fNQITNMx-Ya"
      },
      "execution_count": null,
      "outputs": []
    },
    {
      "cell_type": "markdown",
      "source": [
        "#**Death MODEL:SVM**"
      ],
      "metadata": {
        "id": "mp7Z5gFsyHGP"
      }
    },
    {
      "cell_type": "markdown",
      "source": [
        "###MIN-MAX NORMALIZED DATASET"
      ],
      "metadata": {
        "id": "_rJCPlKuySZ0"
      }
    },
    {
      "cell_type": "code",
      "source": [
        "import pandas as pd\n",
        "from sklearn.svm import SVC\n",
        "from sklearn.model_selection import train_test_split\n",
        "from sklearn.preprocessing import LabelEncoder\n",
        "from sklearn.metrics import accuracy_score, classification_report, confusion_matrix\n",
        "from sklearn.impute import SimpleImputer\n",
        "from sklearn.preprocessing import StandardScaler\n",
        "\n",
        "# Load dataset\n",
        "data = pd.read_csv('/content/Processed_DataSet_Min-Max_AI.csv')\n",
        "\n",
        "# Columns to drop\n",
        "columns_to_drop = ['sex', 'dzgroup', 'dzclass', 'race', 'dnr', 'ca', 'sfdm2']\n",
        "\n",
        "# Drop specified columns\n",
        "data_filtered = data.drop(columns=columns_to_drop)\n",
        "\n",
        "\n",
        "X = data_filtered.drop(['death'], axis=1)\n",
        "y = data_filtered['death']\n",
        "\n",
        "# Convert categorical variables to numerical using Label Encoding\n",
        "label_encoder = LabelEncoder()\n",
        "for col in X.select_dtypes(include=['object']).columns:\n",
        "    X[col] = label_encoder.fit_transform(X[col])\n",
        "\n",
        "# Split the data into training and testing sets\n",
        "X_train, X_test, y_train, y_test = train_test_split(X, y, test_size=0.3, random_state=42)\n",
        "\n",
        "imputer = SimpleImputer(strategy='mean')\n",
        "\n",
        "\n",
        "X_train_imputed = pd.DataFrame(imputer.fit_transform(X_train), columns=X_train.columns)\n",
        "\n",
        "\n",
        "X_test_imputed = pd.DataFrame(imputer.transform(X_test), columns=X_test.columns)\n",
        "\n",
        "\n",
        "scaler = StandardScaler()\n",
        "\n",
        "X_train_scaled = pd.DataFrame(scaler.fit_transform(X_train_imputed), columns=X_train_imputed.columns)\n",
        "\n",
        "\n",
        "X_test_scaled = pd.DataFrame(scaler.transform(X_test_imputed), columns=X_test_imputed.columns)\n",
        "\n",
        "# Initialize an SVM Classifier\n",
        "svm_classifier = SVC(random_state=42)\n",
        "\n",
        "\n",
        "svm_classifier.fit(X_train_scaled, y_train)\n",
        "\n",
        "\n",
        "y_pred = svm_classifier.predict(X_test_scaled)\n",
        "\n",
        "\n",
        "accuracy = accuracy_score(y_test, y_pred)\n",
        "print(\"Accuracy:\", accuracy)\n",
        "\n",
        "# Calculate and print the classification report\n",
        "class_report = classification_report(y_test, y_pred)\n",
        "print(\"Classification Report:\")\n",
        "print(class_report)\n",
        "\n",
        "\n",
        "conf_matrix = confusion_matrix(y_test, y_pred)\n",
        "print(\"Confusion Matrix:\")\n",
        "print(conf_matrix)\n"
      ],
      "metadata": {
        "id": "jbI1Fcxayap4"
      },
      "execution_count": null,
      "outputs": []
    },
    {
      "cell_type": "markdown",
      "source": [
        "###Z-Score NORMALIZED DATASET"
      ],
      "metadata": {
        "id": "jW_pb2-EyXwV"
      }
    },
    {
      "cell_type": "code",
      "source": [
        "import pandas as pd\n",
        "from sklearn.svm import SVC\n",
        "from sklearn.model_selection import train_test_split\n",
        "from sklearn.preprocessing import LabelEncoder\n",
        "from sklearn.metrics import accuracy_score, classification_report, confusion_matrix\n",
        "from sklearn.impute import SimpleImputer\n",
        "from sklearn.preprocessing import StandardScaler\n",
        "\n",
        "# Load dataset\n",
        "data = pd.read_csv('/content/Processed_DataSet_Z-score_AI_.csv')\n",
        "\n",
        "# Columns to drop\n",
        "columns_to_drop = ['sex', 'dzgroup', 'dzclass', 'race', 'dnr', 'ca', 'sfdm2']\n",
        "\n",
        "# Drop specified columns\n",
        "data_filtered = data.drop(columns=columns_to_drop)\n",
        "\n",
        "X = data_filtered.drop(['death'], axis=1)\n",
        "y = data_filtered['death']\n",
        "\n",
        "# Converting categorical variables to numerical using Label Encoding\n",
        "label_encoder = LabelEncoder()\n",
        "for col in X.select_dtypes(include=['object']).columns:\n",
        "    X[col] = label_encoder.fit_transform(X[col])\n",
        "\n",
        "# Splitin the data into training and testing sets\n",
        "X_train, X_test, y_train, y_test = train_test_split(X, y, test_size=0.3, random_state=42)\n",
        "\n",
        "\n",
        "imputer = SimpleImputer(strategy='mean')\n",
        "\n",
        "\n",
        "X_train_imputed = pd.DataFrame(imputer.fit_transform(X_train), columns=X_train.columns)\n",
        "\n",
        "\n",
        "X_test_imputed = pd.DataFrame(imputer.transform(X_test), columns=X_test.columns)\n",
        "\n",
        "\n",
        "scaler = StandardScaler()\n",
        "\n",
        "\n",
        "X_train_scaled = pd.DataFrame(scaler.fit_transform(X_train_imputed), columns=X_train_imputed.columns)\n",
        "\n",
        "\n",
        "X_test_scaled = pd.DataFrame(scaler.transform(X_test_imputed), columns=X_test_imputed.columns)\n",
        "\n",
        "# Initialize an SVM Classifier\n",
        "svm_classifier = SVC(random_state=42)\n",
        "\n",
        "# Fit the model\n",
        "svm_classifier.fit(X_train_scaled, y_train)\n",
        "\n",
        "# Make predictions on the test set\n",
        "y_pred = svm_classifier.predict(X_test_scaled)\n",
        "\n",
        "# Evaluate the model\n",
        "accuracy = accuracy_score(y_test, y_pred)\n",
        "print(\"Accuracy:\", accuracy)\n",
        "\n",
        "\n",
        "class_report = classification_report(y_test, y_pred)\n",
        "print(\"Classification Report:\")\n",
        "print(class_report)\n",
        "\n",
        "\n",
        "conf_matrix = confusion_matrix(y_test, y_pred)\n",
        "print(\"Confusion Matrix:\")\n",
        "print(conf_matrix)\n"
      ],
      "metadata": {
        "id": "QEla1QyRyeVd"
      },
      "execution_count": null,
      "outputs": []
    },
    {
      "cell_type": "markdown",
      "source": [
        "#**Target 3 (HOSPITALIZED DEATH)**"
      ],
      "metadata": {
        "id": "VT87q4INzakS"
      }
    },
    {
      "cell_type": "markdown",
      "source": [
        "#**Hospitalized Death MODEL : Logistic Regression**"
      ],
      "metadata": {
        "id": "9blHKq5CXR8Y"
      }
    },
    {
      "cell_type": "markdown",
      "source": [
        "###MIN-MAX NORMALIZED DATASET"
      ],
      "metadata": {
        "id": "JBNLXSfHz51v"
      }
    },
    {
      "cell_type": "code",
      "source": [
        "import pandas as pd\n",
        "from sklearn.model_selection import train_test_split\n",
        "from sklearn.linear_model import LogisticRegression\n",
        "from sklearn.metrics import accuracy_score, classification_report\n",
        "from sklearn.preprocessing import LabelEncoder\n",
        "\n",
        "\n",
        "data = pd.read_csv('/content/Processed_DataSet_Min-Max_AI.csv')\n",
        "\n",
        "instances_per_target = 1000\n",
        "sampled_data = data.groupby('hospdead', group_keys=False).apply(lambda x: x.sample(min(len(x), instances_per_target)))\n",
        "\n",
        "label_encoder = LabelEncoder()\n",
        "columns_to_encode = ['sex', 'dzgroup', 'dzclass', 'race', 'dnr', 'ca','sfdm2']\n",
        "sampled_data[columns_to_encode] = sampled_data[columns_to_encode].apply(lambda col: label_encoder.fit_transform(col))\n",
        "\n",
        "\n",
        "X_hospdead_lr = sampled_data.drop(['edu', 'sfdm2', 'death', 'id', 'hospdead'], axis=1)\n",
        "y_hospdead_lr = sampled_data['hospdead']\n",
        "\n",
        "# Split into training and testing sets\n",
        "X_train_lr, X_test_lr, y_train_lr, y_test_lr = train_test_split(X_hospdead_lr, y_hospdead_lr, test_size=0.2, random_state=42)\n",
        "\n",
        "# Model Training for Logistic Regression\n",
        "lr_model = LogisticRegression(max_iter = 10000)\n",
        "lr_model.fit(X_train_lr, y_train_lr)\n",
        "\n",
        "# Model Evaluation\n",
        "y_pred_lr = lr_model.predict(X_test_lr)\n",
        "\n",
        "accuracy_lr = accuracy_score(y_test_lr, y_pred_lr)\n",
        "classification_report_lr = classification_report(y_test_lr, y_pred_lr)\n",
        "\n",
        "print(f\"Logistic Regression Accuracy: {accuracy_lr}\")\n",
        "print(\"Classification Report:\")\n",
        "print(classification_report_lr)\n"
      ],
      "metadata": {
        "id": "lfMyt0FAXbFh"
      },
      "execution_count": null,
      "outputs": []
    },
    {
      "cell_type": "markdown",
      "source": [
        "###Z-Score NORMALIZED DATASET"
      ],
      "metadata": {
        "id": "saOHtxjN0t-r"
      }
    },
    {
      "cell_type": "code",
      "source": [
        "import pandas as pd\n",
        "from sklearn.model_selection import train_test_split\n",
        "from sklearn.linear_model import LogisticRegression\n",
        "from sklearn.metrics import accuracy_score, classification_report\n",
        "from sklearn.preprocessing import LabelEncoder\n",
        "\n",
        "\n",
        "data = pd.read_csv('/content/Processed_DataSet_Z-score_AI_.csv')\n",
        "\n",
        "instances_per_target = 1000\n",
        "sampled_data = data.groupby('hospdead', group_keys=False).apply(lambda x: x.sample(min(len(x), instances_per_target)))\n",
        "\n",
        "label_encoder = LabelEncoder()\n",
        "columns_to_encode = ['sex', 'dzgroup', 'dzclass', 'race', 'dnr', 'ca','sfdm2']\n",
        "sampled_data[columns_to_encode] = sampled_data[columns_to_encode].apply(lambda col: label_encoder.fit_transform(col))\n",
        "\n",
        "\n",
        "X_hospdead_lr = sampled_data.drop(['edu', 'sfdm2', 'death', 'id', 'hospdead'], axis=1)\n",
        "y_hospdead_lr = sampled_data['hospdead']\n",
        "\n",
        "# Split into training and testing sets\n",
        "X_train_lr, X_test_lr, y_train_lr, y_test_lr = train_test_split(X_hospdead_lr, y_hospdead_lr, test_size=0.2, random_state=42)\n",
        "\n",
        "# Model Training for Logistic Regression\n",
        "lr_model = LogisticRegression(max_iter = 10000)\n",
        "lr_model.fit(X_train_lr, y_train_lr)\n",
        "\n",
        "# Model Evaluation\n",
        "y_pred_lr = lr_model.predict(X_test_lr)\n",
        "\n",
        "accuracy_lr = accuracy_score(y_test_lr, y_pred_lr)\n",
        "classification_report_lr = classification_report(y_test_lr, y_pred_lr)\n",
        "\n",
        "print(f\"Logistic Regression Accuracy: {accuracy_lr}\")\n",
        "print(\"Classification Report:\")\n",
        "print(classification_report_lr)\n"
      ],
      "metadata": {
        "id": "uswL3XGL0ixk"
      },
      "execution_count": null,
      "outputs": []
    },
    {
      "cell_type": "markdown",
      "source": [
        "#**Hospitalized Death MODEL : DECISION TREE**"
      ],
      "metadata": {
        "id": "2e9NIYWn6I61"
      }
    },
    {
      "cell_type": "markdown",
      "source": [
        "###MIN-MAX NORMALIZED DATASET"
      ],
      "metadata": {
        "id": "-eNY57t06P9N"
      }
    },
    {
      "cell_type": "code",
      "source": [
        "import pandas as pd\n",
        "from sklearn.tree import DecisionTreeClassifier\n",
        "from sklearn.preprocessing import LabelEncoder\n",
        "from sklearn.model_selection import train_test_split\n",
        "\n",
        "\n",
        "data = pd.read_csv('/content/Processed_DataSet_Min-Max_AI.csv')\n",
        "\n",
        "instances_per_target = 1000\n",
        "sampled_data = data.groupby('hospdead', group_keys=False).apply(lambda x: x.sample(min(len(x), instances_per_target)))\n",
        "\n",
        "label_encoder = LabelEncoder()\n",
        "columns_to_encode = ['sex', 'dzgroup', 'dzclass', 'race', 'dnr', 'ca','sfdm2']\n",
        "sampled_data[columns_to_encode] = sampled_data[columns_to_encode].apply(lambda col: label_encoder.fit_transform(col))\n",
        "\n",
        "\n",
        "X = sampled_data.drop(['edu', 'sfdm2', 'death', 'id','hospdead'], axis=1)\n",
        "y = sampled_data['hospdead']\n",
        "\n",
        "x_train, x_test, y_train, y_test = train_test_split(X, y, test_size=0.4)\n",
        "\n",
        "classifier = DecisionTreeClassifier(criterion='gini')\n",
        "classifier.fit(x_train, y_train)\n",
        "\n",
        "#predict the labels of clusters.\n",
        "y_predicted = classifier.predict(x_test)\n",
        "\n",
        "from sklearn.metrics import classification_report, confusion_matrix\n",
        "print(confusion_matrix(y_test, y_predicted))\n",
        "print(classification_report(y_test, y_predicted))"
      ],
      "metadata": {
        "id": "aPMlsnE56Xgv"
      },
      "execution_count": null,
      "outputs": []
    },
    {
      "cell_type": "markdown",
      "source": [
        "###Z-Score NORMALIZED DATASET"
      ],
      "metadata": {
        "id": "0Cw-GNdV6T1a"
      }
    },
    {
      "cell_type": "code",
      "source": [
        "import pandas as pd\n",
        "from sklearn.tree import DecisionTreeClassifier\n",
        "from sklearn.preprocessing import LabelEncoder\n",
        "from sklearn.model_selection import train_test_split\n",
        "\n",
        "\n",
        "data = pd.read_csv('/content/Processed_DataSet_Z-score_AI_.csv')\n",
        "\n",
        "instances_per_target = 1000\n",
        "sampled_data = data.groupby('hospdead', group_keys=False).apply(lambda x: x.sample(min(len(x), instances_per_target)))\n",
        "\n",
        "label_encoder = LabelEncoder()\n",
        "columns_to_encode = ['sex', 'dzgroup', 'dzclass', 'race', 'dnr', 'ca','sfdm2']\n",
        "sampled_data[columns_to_encode] = sampled_data[columns_to_encode].apply(lambda col: label_encoder.fit_transform(col))\n",
        "\n",
        "\n",
        "X = sampled_data.drop(['edu', 'sfdm2', 'death', 'id','hospdead'], axis=1)\n",
        "y = sampled_data['hospdead']\n",
        "\n",
        "x_train, x_test, y_train, y_test = train_test_split(X, y, test_size=0.4)\n",
        "\n",
        "classifier = DecisionTreeClassifier(criterion='entropy')\n",
        "classifier.fit(x_train, y_train)\n",
        "\n",
        "#predict the labels of clusters.\n",
        "y_predicted = classifier.predict(x_test)\n",
        "\n",
        "from sklearn.metrics import classification_report, confusion_matrix\n",
        "print(confusion_matrix(y_test, y_predicted))\n",
        "print(classification_report(y_test, y_predicted))"
      ],
      "metadata": {
        "id": "EytzvnHS6cob"
      },
      "execution_count": null,
      "outputs": []
    },
    {
      "cell_type": "markdown",
      "source": [
        "#**Hospitalized Death MODEL : NAIVE BAYES**"
      ],
      "metadata": {
        "id": "1dj5Y0146iQG"
      }
    },
    {
      "cell_type": "markdown",
      "source": [
        "###Z-Score NORMALIZED DATASET"
      ],
      "metadata": {
        "id": "IF4Jqe7B6lCy"
      }
    },
    {
      "cell_type": "code",
      "source": [
        "# 1. Importing Libraries\n",
        "import pandas as pd\n",
        "from sklearn.preprocessing import LabelEncoder\n",
        "from sklearn.naive_bayes import GaussianNB\n",
        "from sklearn.naive_bayes import BernoulliNB\n",
        "from sklearn.model_selection import train_test_split\n",
        "from sklearn.metrics import classification_report, confusion_matrix\n",
        "\n",
        "data = pd.read_csv('/content/Processed_DataSet_Z-score_AI_.csv')\n",
        "\n",
        "instances_per_target = 1000\n",
        "sampled_data = data.groupby('hospdead', group_keys=False).apply(lambda x: x.sample(min(len(x), instances_per_target)))\n",
        "\n",
        "label_encoder = LabelEncoder()\n",
        "columns_to_encode = ['sex', 'dzgroup', 'dzclass', 'race', 'dnr', 'ca','sfdm2']\n",
        "sampled_data[columns_to_encode] = sampled_data[columns_to_encode].apply(lambda col: label_encoder.fit_transform(col))\n",
        "\n",
        "\n",
        "X = sampled_data.drop(['edu', 'sfdm2', 'death', 'id','hospdead'], axis=1)\n",
        "y = sampled_data['hospdead']\n",
        "\n",
        "x_train, x_test, y_train, y_test = train_test_split(X, y, test_size=0.3)\n",
        "\n",
        "# 5. Creating Classifier Object and Building Classification Model\n",
        "classifier = GaussianNB()\n",
        "classifier.fit(x_train, y_train) #Classification Model\n",
        "\n",
        "# 6. Predicting New Instances based on cleated Classification Model\n",
        "y_predicted = classifier.predict(x_test)\n",
        "\n",
        "# 7. Evaluation Classification\n",
        "print(confusion_matrix(y_predicted, y_test))\n",
        "print(classification_report(y_predicted, y_test))\n"
      ],
      "metadata": {
        "id": "sLkQf6l56xVT",
        "colab": {
          "base_uri": "https://localhost:8080/"
        },
        "outputId": "d4738a75-65ab-43e0-b8d5-89d1d639959b"
      },
      "execution_count": 67,
      "outputs": [
        {
          "output_type": "stream",
          "name": "stdout",
          "text": [
            "[[259  53]\n",
            " [ 40 248]]\n",
            "              precision    recall  f1-score   support\n",
            "\n",
            "           0       0.87      0.83      0.85       312\n",
            "           1       0.82      0.86      0.84       288\n",
            "\n",
            "    accuracy                           0.84       600\n",
            "   macro avg       0.85      0.85      0.84       600\n",
            "weighted avg       0.85      0.84      0.85       600\n",
            "\n"
          ]
        }
      ]
    },
    {
      "cell_type": "markdown",
      "source": [
        "###MIN-MAX NORMALIZED DATASET"
      ],
      "metadata": {
        "id": "EIZFGd9D6oOq"
      }
    },
    {
      "cell_type": "code",
      "source": [
        "# 1. Importing Libraries\n",
        "import pandas as pd\n",
        "from sklearn.naive_bayes import GaussianNB\n",
        "from sklearn.naive_bayes import BernoulliNB\n",
        "from sklearn.model_selection import train_test_split\n",
        "from sklearn.metrics import classification_report, confusion_matrix\n",
        "\n",
        "data = pd.read_csv('/content/Processed_DataSet_Min-Max_AI.csv')\n",
        "\n",
        "instances_per_target = 1000\n",
        "sampled_data = data.groupby('hospdead', group_keys=False).apply(lambda x: x.sample(min(len(x), instances_per_target)))\n",
        "\n",
        "label_encoder = LabelEncoder()\n",
        "columns_to_encode = ['sex', 'dzgroup', 'dzclass', 'race', 'dnr', 'ca','sfdm2']\n",
        "sampled_data[columns_to_encode] = sampled_data[columns_to_encode].apply(lambda col: label_encoder.fit_transform(col))\n",
        "\n",
        "\n",
        "X = sampled_data.drop(['edu', 'sfdm2', 'death', 'id','hospdead'], axis=1)\n",
        "y = sampled_data['hospdead']\n",
        "\n",
        "x_train, x_test, y_train, y_test = train_test_split(X, y, test_size=0.2)\n",
        "\n",
        "# 5. Creating Classifier Object and Building Classification Model\n",
        "classifier = GaussianNB()\n",
        "classifier.fit(x_train, y_train) #Classification Model\n",
        "\n",
        "# 6. Predicting New Instances based on cleated Classification Model\n",
        "y_predicted = classifier.predict(x_test)\n",
        "\n",
        "# 7. Evaluation Classification\n",
        "print(confusion_matrix(y_predicted, y_test))\n",
        "print(classification_report(y_predicted, y_test))\n"
      ],
      "metadata": {
        "id": "nbkHBRQG6ybT"
      },
      "execution_count": null,
      "outputs": []
    }
  ],
  "metadata": {
    "colab": {
      "provenance": [],
      "collapsed_sections": [
        "nK6_ob4nTUGp",
        "zidRHbt5UQaT",
        "RTI7cRRFUcDa"
      ]
    },
    "kernelspec": {
      "display_name": "Python 3",
      "name": "python3"
    },
    "language_info": {
      "name": "python"
    }
  },
  "nbformat": 4,
  "nbformat_minor": 0
}